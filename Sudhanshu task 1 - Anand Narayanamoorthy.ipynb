{
 "cells": [
  {
   "cell_type": "code",
   "execution_count": 118,
   "id": "329516d9",
   "metadata": {},
   "outputs": [],
   "source": [
    "s = \"this is My First Python programming class and i am learNING python string and its function\""
   ]
  },
  {
   "cell_type": "code",
   "execution_count": 119,
   "id": "38e7b7e5",
   "metadata": {},
   "outputs": [
    {
     "data": {
      "text/plain": [
       "90"
      ]
     },
     "execution_count": 119,
     "metadata": {},
     "output_type": "execute_result"
    }
   ],
   "source": [
    "len(s)"
   ]
  },
  {
   "cell_type": "markdown",
   "id": "73d4292e",
   "metadata": {},
   "source": [
    "# 1 . Try to extract data from index one to index 300 with a jump of 3"
   ]
  },
  {
   "cell_type": "code",
   "execution_count": 120,
   "id": "363c9dcc",
   "metadata": {},
   "outputs": [],
   "source": [
    "si= \"\"\" Learn new skills to go ahead for your career.\n",
    "\n",
    "iNeuron is a product-driven organisation working on state of the art projects for our domestic and international clients carrying a lot of expertise in product development in the area of Computer vision, Deep learning, NLP, Auto ML and Machine learning with industry expertise in warehousing, Security, Surveillance, Healthcare and Inventory management.\n",
    "\n",
    "We also have our training academy where we are providing affordable AI education in Deep learning, Machine Learning and NLP.\n",
    "\n",
    "We at iNeuron believe that just classroom training is not adequate, thus we incorporate theoretical knowledge with hands-on practical exposure via students contribution in our in-house projects providing a deeper and rich learning experience.\"\"\""
   ]
  },
  {
   "cell_type": "code",
   "execution_count": 121,
   "id": "ab03d18a",
   "metadata": {},
   "outputs": [
    {
     "data": {
      "text/plain": [
       "771"
      ]
     },
     "execution_count": 121,
     "metadata": {},
     "output_type": "execute_result"
    }
   ],
   "source": [
    "len(si)"
   ]
  },
  {
   "cell_type": "code",
   "execution_count": 122,
   "id": "0f7e0ae7",
   "metadata": {},
   "outputs": [
    {
     "data": {
      "text/plain": [
       "' a wkltgaaf uce.iuns ocdv gitnoi  a  erpjtf roscnieaolln ri l  ptenru voe  er  mt snDpengN,u  dai ai'"
      ]
     },
     "execution_count": 122,
     "metadata": {},
     "output_type": "execute_result"
    }
   ],
   "source": [
    "si[:300:3]"
   ]
  },
  {
   "cell_type": "code",
   "execution_count": null,
   "id": "19bba8b5",
   "metadata": {},
   "outputs": [],
   "source": []
  },
  {
   "cell_type": "markdown",
   "id": "38cad938",
   "metadata": {},
   "source": [
    "# 2. Try to reverse a string without using reverse function"
   ]
  },
  {
   "cell_type": "code",
   "execution_count": 123,
   "id": "949fc8b8",
   "metadata": {},
   "outputs": [],
   "source": [
    "a='Anand Narayanamoorthy'"
   ]
  },
  {
   "cell_type": "code",
   "execution_count": 124,
   "id": "031b5f6c",
   "metadata": {},
   "outputs": [
    {
     "data": {
      "text/plain": [
       "'yhtroomanayaraN dnanA'"
      ]
     },
     "execution_count": 124,
     "metadata": {},
     "output_type": "execute_result"
    }
   ],
   "source": [
    "a[::-1]"
   ]
  },
  {
   "cell_type": "markdown",
   "id": "16010976",
   "metadata": {},
   "source": [
    "# 3. Try to split a string after conversion of entire string in uppercase"
   ]
  },
  {
   "cell_type": "code",
   "execution_count": 125,
   "id": "cbcc7891",
   "metadata": {},
   "outputs": [
    {
     "data": {
      "text/plain": [
       "' Learn new skills to go ahead for your career.\\n\\niNeuron is a product-driven organisation working on state of the art projects for our domestic and international clients carrying a lot of expertise in product development in the area of Computer vision, Deep learning, NLP, Auto ML and Machine learning with industry expertise in warehousing, Security, Surveillance, Healthcare and Inventory management.\\n\\nWe also have our training academy where we are providing affordable AI education in Deep learning, Machine Learning and NLP.\\n\\nWe at iNeuron believe that just classroom training is not adequate, thus we incorporate theoretical knowledge with hands-on practical exposure via students contribution in our in-house projects providing a deeper and rich learning experience.'"
      ]
     },
     "execution_count": 125,
     "metadata": {},
     "output_type": "execute_result"
    }
   ],
   "source": [
    "si"
   ]
  },
  {
   "cell_type": "code",
   "execution_count": 126,
   "id": "6cfe3d29",
   "metadata": {},
   "outputs": [
    {
     "data": {
      "text/plain": [
       "['',\n",
       " 'Learn',\n",
       " 'new',\n",
       " 'skills',\n",
       " 'to',\n",
       " 'go',\n",
       " 'ahead',\n",
       " 'for',\n",
       " 'your',\n",
       " 'career.\\n\\niNeuron',\n",
       " 'is',\n",
       " 'a',\n",
       " 'product-driven',\n",
       " 'organisation',\n",
       " 'working',\n",
       " 'on',\n",
       " 'state',\n",
       " 'of',\n",
       " 'the',\n",
       " 'art',\n",
       " 'projects',\n",
       " 'for',\n",
       " 'our',\n",
       " 'domestic',\n",
       " 'and',\n",
       " 'international',\n",
       " 'clients',\n",
       " 'carrying',\n",
       " 'a',\n",
       " 'lot',\n",
       " 'of',\n",
       " 'expertise',\n",
       " 'in',\n",
       " 'product',\n",
       " 'development',\n",
       " 'in',\n",
       " 'the',\n",
       " 'area',\n",
       " 'of',\n",
       " 'Computer',\n",
       " 'vision,',\n",
       " 'Deep',\n",
       " 'learning,',\n",
       " 'NLP,',\n",
       " 'Auto',\n",
       " 'ML',\n",
       " 'and',\n",
       " 'Machine',\n",
       " 'learning',\n",
       " 'with',\n",
       " 'industry',\n",
       " 'expertise',\n",
       " 'in',\n",
       " 'warehousing,',\n",
       " 'Security,',\n",
       " 'Surveillance,',\n",
       " 'Healthcare',\n",
       " 'and',\n",
       " 'Inventory',\n",
       " 'management.\\n\\nWe',\n",
       " 'also',\n",
       " 'have',\n",
       " 'our',\n",
       " 'training',\n",
       " 'academy',\n",
       " 'where',\n",
       " 'we',\n",
       " 'are',\n",
       " 'providing',\n",
       " 'affordable',\n",
       " 'AI',\n",
       " 'education',\n",
       " 'in',\n",
       " 'Deep',\n",
       " 'learning,',\n",
       " 'Machine',\n",
       " 'Learning',\n",
       " 'and',\n",
       " 'NLP.\\n\\nWe',\n",
       " 'at',\n",
       " 'iNeuron',\n",
       " 'believe',\n",
       " 'that',\n",
       " 'just',\n",
       " 'classroom',\n",
       " 'training',\n",
       " 'is',\n",
       " 'not',\n",
       " 'adequate,',\n",
       " 'thus',\n",
       " 'we',\n",
       " 'incorporate',\n",
       " 'theoretical',\n",
       " 'knowledge',\n",
       " 'with',\n",
       " 'hands-on',\n",
       " 'practical',\n",
       " 'exposure',\n",
       " 'via',\n",
       " 'students',\n",
       " 'contribution',\n",
       " 'in',\n",
       " 'our',\n",
       " 'in-house',\n",
       " 'projects',\n",
       " 'providing',\n",
       " 'a',\n",
       " 'deeper',\n",
       " 'and',\n",
       " 'rich',\n",
       " 'learning',\n",
       " 'experience.']"
      ]
     },
     "execution_count": 126,
     "metadata": {},
     "output_type": "execute_result"
    }
   ],
   "source": [
    "si.split(' ')"
   ]
  },
  {
   "cell_type": "code",
   "execution_count": 127,
   "id": "434f55d6",
   "metadata": {},
   "outputs": [
    {
     "data": {
      "text/plain": [
       "' LEARN NEW SKILLS TO GO AHEAD FOR YOUR CAREER.\\n\\nINEURON IS A PRODUCT-DRIVEN ORGANISATION WORKING ON STATE OF THE ART PROJECTS FOR OUR DOMESTIC AND INTERNATIONAL CLIENTS CARRYING A LOT OF EXPERTISE IN PRODUCT DEVELOPMENT IN THE AREA OF COMPUTER VISION, DEEP LEARNING, NLP, AUTO ML AND MACHINE LEARNING WITH INDUSTRY EXPERTISE IN WAREHOUSING, SECURITY, SURVEILLANCE, HEALTHCARE AND INVENTORY MANAGEMENT.\\n\\nWE ALSO HAVE OUR TRAINING ACADEMY WHERE WE ARE PROVIDING AFFORDABLE AI EDUCATION IN DEEP LEARNING, MACHINE LEARNING AND NLP.\\n\\nWE AT INEURON BELIEVE THAT JUST CLASSROOM TRAINING IS NOT ADEQUATE, THUS WE INCORPORATE THEORETICAL KNOWLEDGE WITH HANDS-ON PRACTICAL EXPOSURE VIA STUDENTS CONTRIBUTION IN OUR IN-HOUSE PROJECTS PROVIDING A DEEPER AND RICH LEARNING EXPERIENCE.'"
      ]
     },
     "execution_count": 127,
     "metadata": {},
     "output_type": "execute_result"
    }
   ],
   "source": [
    "si.upper()"
   ]
  },
  {
   "cell_type": "markdown",
   "id": "669db3a2",
   "metadata": {},
   "source": [
    "# 4. try to convert the whole string into lower case"
   ]
  },
  {
   "cell_type": "code",
   "execution_count": 128,
   "id": "9afd0498",
   "metadata": {},
   "outputs": [
    {
     "data": {
      "text/plain": [
       "' learn new skills to go ahead for your career.\\n\\nineuron is a product-driven organisation working on state of the art projects for our domestic and international clients carrying a lot of expertise in product development in the area of computer vision, deep learning, nlp, auto ml and machine learning with industry expertise in warehousing, security, surveillance, healthcare and inventory management.\\n\\nwe also have our training academy where we are providing affordable ai education in deep learning, machine learning and nlp.\\n\\nwe at ineuron believe that just classroom training is not adequate, thus we incorporate theoretical knowledge with hands-on practical exposure via students contribution in our in-house projects providing a deeper and rich learning experience.'"
      ]
     },
     "execution_count": 128,
     "metadata": {},
     "output_type": "execute_result"
    }
   ],
   "source": [
    "si.lower()"
   ]
  },
  {
   "cell_type": "markdown",
   "id": "3bfc205c",
   "metadata": {},
   "source": [
    "# 5 . Try to capitalize the whole string"
   ]
  },
  {
   "cell_type": "code",
   "execution_count": 129,
   "id": "c437b1f0",
   "metadata": {},
   "outputs": [
    {
     "data": {
      "text/plain": [
       "'this is My First Python programming class and i am learNING python string and its function'"
      ]
     },
     "execution_count": 129,
     "metadata": {},
     "output_type": "execute_result"
    }
   ],
   "source": [
    "s"
   ]
  },
  {
   "cell_type": "code",
   "execution_count": 130,
   "id": "f344a6f1",
   "metadata": {},
   "outputs": [
    {
     "data": {
      "text/plain": [
       "'This is my first python programming class and i am learning python string and its function'"
      ]
     },
     "execution_count": 130,
     "metadata": {},
     "output_type": "execute_result"
    }
   ],
   "source": [
    "s.capitalize()"
   ]
  },
  {
   "cell_type": "markdown",
   "id": "92e67447",
   "metadata": {},
   "source": [
    "# 6 . Write a diference between isalnum() and isalpha()"
   ]
  },
  {
   "cell_type": "code",
   "execution_count": 131,
   "id": "9268a4f1",
   "metadata": {},
   "outputs": [],
   "source": [
    "n='2345'"
   ]
  },
  {
   "cell_type": "code",
   "execution_count": 132,
   "id": "72c06054",
   "metadata": {},
   "outputs": [
    {
     "data": {
      "text/plain": [
       "True"
      ]
     },
     "execution_count": 132,
     "metadata": {},
     "output_type": "execute_result"
    }
   ],
   "source": [
    "n.isalnum()"
   ]
  },
  {
   "cell_type": "code",
   "execution_count": 133,
   "id": "bb12aaca",
   "metadata": {},
   "outputs": [],
   "source": [
    "n=' 2345'"
   ]
  },
  {
   "cell_type": "code",
   "execution_count": 134,
   "id": "95a27610",
   "metadata": {},
   "outputs": [
    {
     "data": {
      "text/plain": [
       "False"
      ]
     },
     "execution_count": 134,
     "metadata": {},
     "output_type": "execute_result"
    }
   ],
   "source": [
    "n.isalnum()"
   ]
  },
  {
   "cell_type": "code",
   "execution_count": 135,
   "id": "7e38a2be",
   "metadata": {},
   "outputs": [],
   "source": [
    "n='asdjk1234'"
   ]
  },
  {
   "cell_type": "code",
   "execution_count": 136,
   "id": "7598b06b",
   "metadata": {},
   "outputs": [
    {
     "data": {
      "text/plain": [
       "True"
      ]
     },
     "execution_count": 136,
     "metadata": {},
     "output_type": "execute_result"
    }
   ],
   "source": [
    "n.isalnum()"
   ]
  },
  {
   "cell_type": "code",
   "execution_count": 137,
   "id": "2ab803d2",
   "metadata": {},
   "outputs": [],
   "source": [
    "n='565*'"
   ]
  },
  {
   "cell_type": "code",
   "execution_count": 138,
   "id": "78cab003",
   "metadata": {},
   "outputs": [
    {
     "data": {
      "text/plain": [
       "False"
      ]
     },
     "execution_count": 138,
     "metadata": {},
     "output_type": "execute_result"
    }
   ],
   "source": [
    "n.isalnum()"
   ]
  },
  {
   "cell_type": "code",
   "execution_count": 139,
   "id": "537a57e4",
   "metadata": {},
   "outputs": [],
   "source": [
    "n='  556'"
   ]
  },
  {
   "cell_type": "code",
   "execution_count": 140,
   "id": "7f0d9ce2",
   "metadata": {},
   "outputs": [
    {
     "data": {
      "text/plain": [
       "False"
      ]
     },
     "execution_count": 140,
     "metadata": {},
     "output_type": "execute_result"
    }
   ],
   "source": [
    "n.isalnum()"
   ]
  },
  {
   "cell_type": "code",
   "execution_count": 141,
   "id": "881492d5",
   "metadata": {},
   "outputs": [],
   "source": [
    "p='anand'"
   ]
  },
  {
   "cell_type": "code",
   "execution_count": 142,
   "id": "176036f1",
   "metadata": {},
   "outputs": [
    {
     "data": {
      "text/plain": [
       "True"
      ]
     },
     "execution_count": 142,
     "metadata": {},
     "output_type": "execute_result"
    }
   ],
   "source": [
    "p.isalpha()"
   ]
  },
  {
   "cell_type": "code",
   "execution_count": 143,
   "id": "caa8c480",
   "metadata": {},
   "outputs": [],
   "source": [
    "p=' 12and'"
   ]
  },
  {
   "cell_type": "code",
   "execution_count": 144,
   "id": "e241f36c",
   "metadata": {},
   "outputs": [
    {
     "data": {
      "text/plain": [
       "False"
      ]
     },
     "execution_count": 144,
     "metadata": {},
     "output_type": "execute_result"
    }
   ],
   "source": [
    "p.isalpha()"
   ]
  },
  {
   "cell_type": "code",
   "execution_count": 145,
   "id": "c76ed102",
   "metadata": {},
   "outputs": [],
   "source": [
    "p='**anand'"
   ]
  },
  {
   "cell_type": "code",
   "execution_count": 146,
   "id": "f29e0f21",
   "metadata": {},
   "outputs": [
    {
     "data": {
      "text/plain": [
       "False"
      ]
     },
     "execution_count": 146,
     "metadata": {},
     "output_type": "execute_result"
    }
   ],
   "source": [
    "p.isalpha()"
   ]
  },
  {
   "cell_type": "code",
   "execution_count": 147,
   "id": "3106d000",
   "metadata": {},
   "outputs": [],
   "source": [
    "p=' anand'"
   ]
  },
  {
   "cell_type": "code",
   "execution_count": 148,
   "id": "94013f9d",
   "metadata": {},
   "outputs": [
    {
     "data": {
      "text/plain": [
       "False"
      ]
     },
     "execution_count": 148,
     "metadata": {},
     "output_type": "execute_result"
    }
   ],
   "source": [
    "p.isalpha()"
   ]
  },
  {
   "cell_type": "markdown",
   "id": "0155dced",
   "metadata": {},
   "source": [
    "####  ISALNUM checks whether any values in str contains numbers. if so returns True otherwise if symbols and space present in str it will return false.\n",
    "\n",
    "#### ISALPHA checks whether only alphabetic values present in str\n",
    "\n"
   ]
  },
  {
   "cell_type": "markdown",
   "id": "443006c4",
   "metadata": {},
   "source": [
    "--------------------------------------------------------------------------------------------------"
   ]
  },
  {
   "cell_type": "markdown",
   "id": "870943f3",
   "metadata": {},
   "source": [
    "# 7. Try to give an example of expand tab"
   ]
  },
  {
   "cell_type": "code",
   "execution_count": 149,
   "id": "59b79cb9",
   "metadata": {},
   "outputs": [],
   "source": [
    "et='http:\\\\tlocalhost:8888\\tnotebooks\\tOneDrive\\tDocuments\\tINeuron%20AI\\tPython%20intro%20-%20Week%201\\tSudhanshu%20Assignment%201%20-%20Anand%20'"
   ]
  },
  {
   "cell_type": "code",
   "execution_count": 150,
   "id": "6a8b850c",
   "metadata": {},
   "outputs": [
    {
     "data": {
      "text/plain": [
       "'http:\\\\tlocalhost:8888   notebooks       OneDrive        Documents       INeuron%20AI    Python%20intro%20-%20Week%201   Sudhanshu%20Assignment%201%20-%20Anand%20'"
      ]
     },
     "execution_count": 150,
     "metadata": {},
     "output_type": "execute_result"
    }
   ],
   "source": [
    "et.expandtabs()"
   ]
  },
  {
   "cell_type": "markdown",
   "id": "7ab4fb7d",
   "metadata": {},
   "source": [
    "# 8 . Give an example of strip , lstrip and rstrip"
   ]
  },
  {
   "cell_type": "code",
   "execution_count": 151,
   "id": "8b0c71c3",
   "metadata": {},
   "outputs": [],
   "source": [
    "st='           Ineuron    Full stack  developer  class        '"
   ]
  },
  {
   "cell_type": "code",
   "execution_count": 152,
   "id": "d3766922",
   "metadata": {},
   "outputs": [
    {
     "data": {
      "text/plain": [
       "'Ineuron    Full stack  developer  class'"
      ]
     },
     "execution_count": 152,
     "metadata": {},
     "output_type": "execute_result"
    }
   ],
   "source": [
    "st.strip()"
   ]
  },
  {
   "cell_type": "code",
   "execution_count": 153,
   "id": "39ebc2dc",
   "metadata": {},
   "outputs": [
    {
     "data": {
      "text/plain": [
       "'Ineuron    Full stack  developer  class        '"
      ]
     },
     "execution_count": 153,
     "metadata": {},
     "output_type": "execute_result"
    }
   ],
   "source": [
    "st.lstrip()"
   ]
  },
  {
   "cell_type": "code",
   "execution_count": 154,
   "id": "e350b123",
   "metadata": {},
   "outputs": [
    {
     "data": {
      "text/plain": [
       "'           Ineuron    Full stack  developer  class'"
      ]
     },
     "execution_count": 154,
     "metadata": {},
     "output_type": "execute_result"
    }
   ],
   "source": [
    "st.rstrip()"
   ]
  },
  {
   "cell_type": "markdown",
   "id": "07ba1be5",
   "metadata": {},
   "source": [
    "# 9.  Replace a string charecter by another charector by taking your own example "
   ]
  },
  {
   "cell_type": "code",
   "execution_count": 155,
   "id": "c29d8e3e",
   "metadata": {},
   "outputs": [],
   "source": [
    "ch= '%&%&@ &%r%y%&%moorthy'"
   ]
  },
  {
   "cell_type": "code",
   "execution_count": 156,
   "id": "cac31c01",
   "metadata": {},
   "outputs": [
    {
     "data": {
      "text/plain": [
       "'a&a&@ &araya&amoorthy'"
      ]
     },
     "execution_count": 156,
     "metadata": {},
     "output_type": "execute_result"
    }
   ],
   "source": [
    "aa= ch.replace('%', 'a')\n",
    "aa"
   ]
  },
  {
   "cell_type": "code",
   "execution_count": 157,
   "id": "b407035c",
   "metadata": {},
   "outputs": [
    {
     "data": {
      "text/plain": [
       "'anan@ narayanamoorthy'"
      ]
     },
     "execution_count": 157,
     "metadata": {},
     "output_type": "execute_result"
    }
   ],
   "source": [
    "an=aa.replace('&', 'n')\n",
    "an"
   ]
  },
  {
   "cell_type": "code",
   "execution_count": 158,
   "id": "ea75a69c",
   "metadata": {},
   "outputs": [
    {
     "data": {
      "text/plain": [
       "'anand narayanamoorthy'"
      ]
     },
     "execution_count": 158,
     "metadata": {},
     "output_type": "execute_result"
    }
   ],
   "source": [
    "ad=an.replace('@','d')\n",
    "ad"
   ]
  },
  {
   "cell_type": "markdown",
   "id": "7003ff53",
   "metadata": {},
   "source": [
    "# 10 . Try  to give a defination of string center function with and exmple"
   ]
  },
  {
   "cell_type": "code",
   "execution_count": 159,
   "id": "734d9317",
   "metadata": {},
   "outputs": [
    {
     "data": {
      "text/plain": [
       "'$$$$$$$$$$$$$$anand narayanamoorthy$$$$$$$$$$$$$$$'"
      ]
     },
     "execution_count": 159,
     "metadata": {},
     "output_type": "execute_result"
    }
   ],
   "source": [
    "ad.center(50, \"$\")"
   ]
  },
  {
   "cell_type": "code",
   "execution_count": 160,
   "id": "2fab4f6b",
   "metadata": {},
   "outputs": [
    {
     "data": {
      "text/plain": [
       "21"
      ]
     },
     "execution_count": 160,
     "metadata": {},
     "output_type": "execute_result"
    }
   ],
   "source": [
    "len(ad)"
   ]
  },
  {
   "cell_type": "markdown",
   "id": "484d8320",
   "metadata": {},
   "source": [
    "In above example we can say out of 50characters anand narayanamoorthy with space is 21. remaining space is filled with symbol given inside str."
   ]
  },
  {
   "cell_type": "markdown",
   "id": "1d51a8cc",
   "metadata": {},
   "source": [
    "# 11 . Write your own definition of compiler and interpretor without copy paste form internet in your own language"
   ]
  },
  {
   "cell_type": "markdown",
   "id": "ae8b3166",
   "metadata": {},
   "source": [
    "### compiler compiles all the instruction and gives to machine to process. If any error in coding we can not change because once instructions are give machine process quickly.\n",
    "\n",
    "\n",
    "### Interpretor acts as a middle man which takes instructions and passes on to computer language line by line. Processing is slow and mistakes can be rectified."
   ]
  },
  {
   "cell_type": "markdown",
   "id": "0c722c15",
   "metadata": {},
   "source": [
    "# 12 . Python is a interpreted of compiled language give a clear ans with your understanding "
   ]
  },
  {
   "cell_type": "markdown",
   "id": "037600de",
   "metadata": {},
   "source": [
    "## Source code written goes to Complier and complier converts those codes to byte codes and from byte codes it go to Interpretor and from Interpretor (PVM) it goes to machine language.\n"
   ]
  },
  {
   "cell_type": "markdown",
   "id": "176f3562",
   "metadata": {},
   "source": [
    "# 13 . Try to write a usecase of python with your understanding ."
   ]
  },
  {
   "cell_type": "markdown",
   "id": "cca2e878",
   "metadata": {},
   "source": [
    "### Game development , Web Dev, Decision making, AI and ML, Desktop GUI, Software dev, Business application, Training courses, Lanuage Dev, Op systems, Image Processing and Web Scrapping"
   ]
  },
  {
   "cell_type": "code",
   "execution_count": null,
   "id": "e021eab8",
   "metadata": {},
   "outputs": [],
   "source": []
  }
 ],
 "metadata": {
  "kernelspec": {
   "display_name": "Python 3 (ipykernel)",
   "language": "python",
   "name": "python3"
  },
  "language_info": {
   "codemirror_mode": {
    "name": "ipython",
    "version": 3
   },
   "file_extension": ".py",
   "mimetype": "text/x-python",
   "name": "python",
   "nbconvert_exporter": "python",
   "pygments_lexer": "ipython3",
   "version": "3.9.7"
  }
 },
 "nbformat": 4,
 "nbformat_minor": 5
}
